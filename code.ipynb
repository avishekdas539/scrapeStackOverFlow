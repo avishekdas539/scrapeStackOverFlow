{
  "cells": [
    {
      "attachments": {},
      "cell_type": "markdown",
      "metadata": {},
      "source": [
        "# Scrape StackOverFlow using Python"
      ]
    },
    {
      "attachments": {},
      "cell_type": "markdown",
      "metadata": {},
      "source": [
        "#### Disclaimer: The library provided herein is intended solely for educational and research purposes. The use of this library for any illegal activity is strictly prohibited. The creators of this library do not condone or support any illegal activity or behavior, and shall not be held liable for any consequences that arise from the misuse of this library. It is the responsibility of the user to ensure that their use of this library complies with all applicable laws and regulations. By using this library, you acknowledge that you have read this disclaimer and agree to be bound by its terms and conditions."
      ]
    },
    {
      "attachments": {},
      "cell_type": "markdown",
      "metadata": {},
      "source": [
        "### Import the Scrape class"
      ]
    },
    {
      "cell_type": "code",
      "execution_count": 2,
      "metadata": {
        "id": "NHk4BChX2ux0"
      },
      "outputs": [],
      "source": [
        "from scrapeStackOverFlow.scrape import Scrape"
      ]
    },
    {
      "attachments": {},
      "cell_type": "markdown",
      "metadata": {},
      "source": [
        "### Initiate the object if the Scrape class"
      ]
    },
    {
      "attachments": {},
      "cell_type": "markdown",
      "metadata": {},
      "source": [
        "- startpage : int => From which page scrapping should start.\n",
        "- endpage : int => On which page scrapping should end.\n",
        "- tab : str => ''votes, 'frequent', 'unanswered', 'newest', 'bounties', 'active'.\n",
        "- save_output : bool => True for saving the file, False for not saving.\n",
        "- save_path : str | path => Path with filename to save the output as text file.\n",
        "- print_result : bool => True to print the links scrapped and number of answers found. False will print nothing."
      ]
    },
    {
      "cell_type": "code",
      "execution_count": 3,
      "metadata": {},
      "outputs": [],
      "source": [
        "scraper = Scrape(startpage=1, endpage= 1, tab='votes', save_output=True)"
      ]
    },
    {
      "attachments": {},
      "cell_type": "markdown",
      "metadata": {},
      "source": [
        "### Call the scrape method of that scraper object"
      ]
    },
    {
      "cell_type": "code",
      "execution_count": 4,
      "metadata": {},
      "outputs": [],
      "source": [
        "QnAs = scraper.scrape()"
      ]
    },
    {
      "attachments": {},
      "cell_type": "markdown",
      "metadata": {},
      "source": [
        "### Sample answer copied from the returned output"
      ]
    },
    {
      "cell_type": "code",
      "execution_count": 18,
      "metadata": {},
      "outputs": [],
      "source": [
        "Q = QnAs[6]"
      ]
    },
    {
      "attachments": {},
      "cell_type": "markdown",
      "metadata": {},
      "source": [
        "# Sample Question Captured"
      ]
    },
    {
      "cell_type": "code",
      "execution_count": 19,
      "metadata": {},
      "outputs": [
        {
          "name": "stdout",
          "output_type": "stream",
          "text": [
            "How do I remove a specific value from an array? Something like:array.remove(value);\n",
            "Constraints: I have to use core JavaScript. Frameworks are not allowed.\n"
          ]
        }
      ],
      "source": [
        "print(Q[\"question\"])"
      ]
    },
    {
      "attachments": {},
      "cell_type": "markdown",
      "metadata": {},
      "source": [
        "### First Answer to that"
      ]
    },
    {
      "cell_type": "code",
      "execution_count": 20,
      "metadata": {},
      "outputs": [
        {
          "name": "stdout",
          "output_type": "stream",
          "text": [
            "Find the index of the array element you want to remove using indexOf, and then remove that index with splice.indexindexOfindexOfsplicespliceThe splice() method changes the contents of an array by removing\n",
            "existing elements and/or adding new elements.const array = [2, 5, 9];\n",
            "\n",
            "console.log(array);\n",
            "\n",
            "const index = array.indexOf(5);\n",
            "if (index > -1) { // only splice array when item is found\n",
            "  array.splice(index, 1); // 2nd parameter means remove one item only\n",
            "}\n",
            "\n",
            "// array = [2, 9]\n",
            "console.log(array); The second parameter of splice is the number of elements to remove. Note that splice modifies the array in place and returns a new array containing the elements that have been removed.splicespliceFor the reason of completeness, here are functions. The first function removes only a single occurrence (i.e. removing the first match of 5 from [2,5,9,1,5,8,5]), while the second function removes all occurrences:5[2,5,9,1,5,8,5]function removeItemOnce(arr, value) {\n",
            "  var index = arr.indexOf(value);\n",
            "  if (index > -1) {\n",
            "    arr.splice(index, 1);\n",
            "  }\n",
            "  return arr;\n",
            "}\n",
            "\n",
            "function removeItemAll(arr, value) {\n",
            "  var i = 0;\n",
            "  while (i < arr.length) {\n",
            "    if (arr[i] === value) {\n",
            "      arr.splice(i, 1);\n",
            "    } else {\n",
            "      ++i;\n",
            "    }\n",
            "  }\n",
            "  return arr;\n",
            "}\n",
            "// Usage\n",
            "console.log(removeItemOnce([2,5,9,1,5,8,5], 5))\n",
            "console.log(removeItemAll([2,5,9,1,5,8,5], 5))In TypeScript, these functions can stay type-safe with a type parameter:function removeItem<T>(arr: Array<T>, value: T): Array<T> { \n",
            "  const index = arr.indexOf(value);\n",
            "  if (index > -1) {\n",
            "    arr.splice(index, 1);\n",
            "  }\n",
            "  return arr;\n",
            "}\n",
            "\n"
          ]
        }
      ],
      "source": [
        "print(Q['answers'][0])"
      ]
    },
    {
      "cell_type": "code",
      "execution_count": null,
      "metadata": {},
      "outputs": [],
      "source": []
    }
  ],
  "metadata": {
    "colab": {
      "provenance": []
    },
    "kernelspec": {
      "display_name": "Python 3",
      "language": "python",
      "name": "python3"
    },
    "language_info": {
      "codemirror_mode": {
        "name": "ipython",
        "version": 3
      },
      "file_extension": ".py",
      "mimetype": "text/x-python",
      "name": "python",
      "nbconvert_exporter": "python",
      "pygments_lexer": "ipython3",
      "version": "3.10.5"
    },
    "orig_nbformat": 4,
    "vscode": {
      "interpreter": {
        "hash": "369f2c481f4da34e4445cda3fffd2e751bd1c4d706f27375911949ba6bb62e1c"
      }
    }
  },
  "nbformat": 4,
  "nbformat_minor": 0
}
